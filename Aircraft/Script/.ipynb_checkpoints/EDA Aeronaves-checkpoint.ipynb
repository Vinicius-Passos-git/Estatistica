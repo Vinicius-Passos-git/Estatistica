{
 "cells": [
  {
   "cell_type": "markdown",
   "metadata": {},
   "source": [
    "## Análise sobre aeronaves\n",
    "Nesse primeiro momento estou com o objetivo de apesar fazer analises de EDA com o banco de achei no site do governo, sobre aeronaves. Apesar de não ter conhecimento especifico do ramo resolvi estuda-lo.\n",
    "Vendo a base de dados inicialmente já surgiram algumas perguntas, como por exemplo:\n",
    "- Quais são os tipos de aeronaves que temos e a quantidade de cada uma delas?\n",
    "- As nossas aeronaves são mais antigas ou mais novas (ano de fabricação)?\n",
    "- Qual o trajeto mais realizado (origem - destino)?\n",
    "- Temos alguma relação do tipo de aeronave e os defeitos? São recorrentes?\n",
    "- É possível termos mais acidentes em trajetos especificos?\n",
    "\n",
    "Essas foram algumas perguntas que pude ver com a base de dados. Com certeza se tivesse um conhecimento maior do ramo e da base de dados, poderia surgir outras hipoteses a serem testas.\n",
    "\n",
    "Vou fazer essas análises iniciais e quem sabe outras dúvidas não apareça.\n",
    "Inicialmente irei utilizar as base de dados aeronave e ocorrência que tem como relacionamento a variavel codigo_ocorrencia2"
   ]
  },
  {
   "cell_type": "code",
   "execution_count": 2,
   "metadata": {},
   "outputs": [],
   "source": [
    "#Import librarys\n",
    "import os\n",
    "import numpy as np\n",
    "import pandas as pd\n",
    "import seaborn as sns\n",
    "import matplotlib.pyplot as plt"
   ]
  },
  {
   "cell_type": "code",
   "execution_count": 3,
   "metadata": {},
   "outputs": [],
   "source": [
    "os.chdir('C:\\\\Github\\\\Estatistica\\\\Aircraft\\\\Dataset')"
   ]
  },
  {
   "cell_type": "code",
   "execution_count": 4,
   "metadata": {},
   "outputs": [
    {
     "data": {
      "text/plain": [
       "['aeronave.csv', 'ocorrencia.csv']"
      ]
     },
     "execution_count": 4,
     "metadata": {},
     "output_type": "execute_result"
    }
   ],
   "source": [
    "os.listdir()"
   ]
  },
  {
   "cell_type": "code",
   "execution_count": 5,
   "metadata": {},
   "outputs": [],
   "source": [
    "#Load dataset\n",
    "aeronave = pd.read_csv('aeronave.csv', encoding = \"ISO-8859-1\", sep = \";\")\n",
    "ocorrencia = pd.read_csv('ocorrencia.csv', encoding = \"ISO-8859-1\", sep = \";\")"
   ]
  },
  {
   "cell_type": "code",
   "execution_count": 6,
   "metadata": {},
   "outputs": [
    {
     "name": "stdout",
     "output_type": "stream",
     "text": [
      "aeronave: \n",
      "(5307, 23)\n",
      "ocorrencia: \n",
      "(5245, 22)\n"
     ]
    }
   ],
   "source": [
    "#Imprimi a quantidade de linhas e colunas dos datasets\n",
    "print(\"aeronave: \", aeronave.shape, \"ocorrencia: \", ocorrencia.shape, sep =\"\\n\")"
   ]
  },
  {
   "cell_type": "markdown",
   "metadata": {},
   "source": [
    "##### Inicialmente já podemos observar que temos mais registros na base de dados aeronave do que na ocorrencia"
   ]
  },
  {
   "cell_type": "code",
   "execution_count": 7,
   "metadata": {},
   "outputs": [
    {
     "name": "stdout",
     "output_type": "stream",
     "text": [
      "valores únicos aeronave: \n",
      "5245\n",
      "valores unicos ocorrencia: \n",
      "5245\n"
     ]
    }
   ],
   "source": [
    "#Vamos ver quantos valores únicos temos da variavel codigo_ocorrencia2\n",
    "print(\"valores únicos aeronave: \", aeronave.codigo_ocorrencia2.nunique(), \"valores unicos ocorrencia: \", ocorrencia.codigo_ocorrencia2.nunique(), sep =\"\\n\")"
   ]
  },
  {
   "cell_type": "markdown",
   "metadata": {},
   "source": [
    "##### Bom, podemos ver que alguns valores se repetem na base aeronave e terão os mesmos resultados de ocorrencia. Como não montei a base não vou me apegar a isso, vou apenas tentar fazer uma exploração dos dados e tirar alguns insight deles.\n",
    "##### Para isso irei fazer a \"união\" das duas bases."
   ]
  },
  {
   "cell_type": "code",
   "execution_count": 8,
   "metadata": {},
   "outputs": [],
   "source": [
    "df = pd.merge(aeronave, ocorrencia, on = 'codigo_ocorrencia2')"
   ]
  },
  {
   "cell_type": "markdown",
   "metadata": {},
   "source": [
    "##### Após a união das bases, como esperado, temos a mesma informação para diferentes tipos de aeronave. Onde o resultado da ocorrência é igual para todas elas.\n",
    "##### Pode ser que isso tenha um vies na nossa análise, mas irei considerar que não tenha para conseguir prosseguir com as análises. Ou então poderia retirar as informações duplicadas. Acho que assim ficará melhor para analisar"
   ]
  },
  {
   "cell_type": "code",
   "execution_count": 9,
   "metadata": {},
   "outputs": [
    {
     "data": {
      "text/html": [
       "<div>\n",
       "<style scoped>\n",
       "    .dataframe tbody tr th:only-of-type {\n",
       "        vertical-align: middle;\n",
       "    }\n",
       "\n",
       "    .dataframe tbody tr th {\n",
       "        vertical-align: top;\n",
       "    }\n",
       "\n",
       "    .dataframe thead th {\n",
       "        text-align: right;\n",
       "    }\n",
       "</style>\n",
       "<table border=\"1\" class=\"dataframe\">\n",
       "  <thead>\n",
       "    <tr style=\"text-align: right;\">\n",
       "      <th></th>\n",
       "      <th>codigo_ocorrencia2</th>\n",
       "      <th>aeronave_matricula</th>\n",
       "      <th>aeronave_operador_categoria</th>\n",
       "      <th>aeronave_tipo_veiculo</th>\n",
       "      <th>aeronave_fabricante</th>\n",
       "      <th>aeronave_modelo</th>\n",
       "      <th>aeronave_tipo_icao</th>\n",
       "      <th>aeronave_motor_tipo</th>\n",
       "      <th>aeronave_motor_quantidade</th>\n",
       "      <th>aeronave_pmd</th>\n",
       "      <th>...</th>\n",
       "      <th>ocorrencia_dia</th>\n",
       "      <th>ocorrencia_hora</th>\n",
       "      <th>investigacao_aeronave_liberada</th>\n",
       "      <th>investigacao_status</th>\n",
       "      <th>divulgacao_relatorio_numero</th>\n",
       "      <th>divulgacao_relatorio_publicado</th>\n",
       "      <th>divulgacao_dia_publicacao</th>\n",
       "      <th>total_recomendacoes</th>\n",
       "      <th>total_aeronaves_envolvidas</th>\n",
       "      <th>ocorrencia_saida_pista</th>\n",
       "    </tr>\n",
       "  </thead>\n",
       "  <tbody>\n",
       "    <tr>\n",
       "      <th>1147</th>\n",
       "      <td>45689</td>\n",
       "      <td>PPKKA</td>\n",
       "      <td>TÁXI AÉREO</td>\n",
       "      <td>AVIÃO</td>\n",
       "      <td>EMBRAER</td>\n",
       "      <td>EMB-500</td>\n",
       "      <td>E50P</td>\n",
       "      <td>JATO</td>\n",
       "      <td>BIMOTOR</td>\n",
       "      <td>4750</td>\n",
       "      <td>...</td>\n",
       "      <td>17/02/2012</td>\n",
       "      <td>23:00:00</td>\n",
       "      <td>***</td>\n",
       "      <td>FINALIZADA</td>\n",
       "      <td>***</td>\n",
       "      <td>NÃO</td>\n",
       "      <td>NaN</td>\n",
       "      <td>0</td>\n",
       "      <td>3</td>\n",
       "      <td>NÃO</td>\n",
       "    </tr>\n",
       "    <tr>\n",
       "      <th>1148</th>\n",
       "      <td>45689</td>\n",
       "      <td>PPOFF</td>\n",
       "      <td>PARTICULAR</td>\n",
       "      <td>AVIÃO</td>\n",
       "      <td>CIRRUS DESIGN</td>\n",
       "      <td>SR22</td>\n",
       "      <td>SR22</td>\n",
       "      <td>PISTÃO</td>\n",
       "      <td>MONOMOTOR</td>\n",
       "      <td>1542</td>\n",
       "      <td>...</td>\n",
       "      <td>17/02/2012</td>\n",
       "      <td>23:00:00</td>\n",
       "      <td>***</td>\n",
       "      <td>FINALIZADA</td>\n",
       "      <td>***</td>\n",
       "      <td>NÃO</td>\n",
       "      <td>NaN</td>\n",
       "      <td>0</td>\n",
       "      <td>3</td>\n",
       "      <td>NÃO</td>\n",
       "    </tr>\n",
       "    <tr>\n",
       "      <th>1149</th>\n",
       "      <td>45689</td>\n",
       "      <td>PTOTG</td>\n",
       "      <td>PARTICULAR</td>\n",
       "      <td>AVIÃO</td>\n",
       "      <td>BEECH AIRCRAFT</td>\n",
       "      <td>C90A</td>\n",
       "      <td>BE9L</td>\n",
       "      <td>TURBOÉLICE</td>\n",
       "      <td>BIMOTOR</td>\n",
       "      <td>4694</td>\n",
       "      <td>...</td>\n",
       "      <td>17/02/2012</td>\n",
       "      <td>23:00:00</td>\n",
       "      <td>***</td>\n",
       "      <td>FINALIZADA</td>\n",
       "      <td>***</td>\n",
       "      <td>NÃO</td>\n",
       "      <td>NaN</td>\n",
       "      <td>0</td>\n",
       "      <td>3</td>\n",
       "      <td>NÃO</td>\n",
       "    </tr>\n",
       "  </tbody>\n",
       "</table>\n",
       "<p>3 rows × 44 columns</p>\n",
       "</div>"
      ],
      "text/plain": [
       "      codigo_ocorrencia2 aeronave_matricula aeronave_operador_categoria  \\\n",
       "1147               45689              PPKKA                  TÁXI AÉREO   \n",
       "1148               45689              PPOFF                  PARTICULAR   \n",
       "1149               45689              PTOTG                  PARTICULAR   \n",
       "\n",
       "     aeronave_tipo_veiculo aeronave_fabricante aeronave_modelo  \\\n",
       "1147                 AVIÃO             EMBRAER         EMB-500   \n",
       "1148                 AVIÃO       CIRRUS DESIGN            SR22   \n",
       "1149                 AVIÃO      BEECH AIRCRAFT            C90A   \n",
       "\n",
       "     aeronave_tipo_icao aeronave_motor_tipo aeronave_motor_quantidade  \\\n",
       "1147               E50P                JATO                   BIMOTOR   \n",
       "1148               SR22              PISTÃO                 MONOMOTOR   \n",
       "1149               BE9L          TURBOÉLICE                   BIMOTOR   \n",
       "\n",
       "      aeronave_pmd  ...  ocorrencia_dia  ocorrencia_hora  \\\n",
       "1147          4750  ...      17/02/2012         23:00:00   \n",
       "1148          1542  ...      17/02/2012         23:00:00   \n",
       "1149          4694  ...      17/02/2012         23:00:00   \n",
       "\n",
       "      investigacao_aeronave_liberada investigacao_status  \\\n",
       "1147                             ***          FINALIZADA   \n",
       "1148                             ***          FINALIZADA   \n",
       "1149                             ***          FINALIZADA   \n",
       "\n",
       "     divulgacao_relatorio_numero divulgacao_relatorio_publicado  \\\n",
       "1147                         ***                            NÃO   \n",
       "1148                         ***                            NÃO   \n",
       "1149                         ***                            NÃO   \n",
       "\n",
       "     divulgacao_dia_publicacao total_recomendacoes total_aeronaves_envolvidas  \\\n",
       "1147                       NaN                   0                          3   \n",
       "1148                       NaN                   0                          3   \n",
       "1149                       NaN                   0                          3   \n",
       "\n",
       "     ocorrencia_saida_pista  \n",
       "1147                    NÃO  \n",
       "1148                    NÃO  \n",
       "1149                    NÃO  \n",
       "\n",
       "[3 rows x 44 columns]"
      ]
     },
     "execution_count": 9,
     "metadata": {},
     "output_type": "execute_result"
    }
   ],
   "source": [
    "df.loc[df['codigo_ocorrencia2'] == 45689]"
   ]
  },
  {
   "cell_type": "code",
   "execution_count": 10,
   "metadata": {},
   "outputs": [
    {
     "name": "stdout",
     "output_type": "stream",
     "text": [
      "<class 'pandas.core.frame.DataFrame'>\n",
      "Int64Index: 5307 entries, 0 to 5306\n",
      "Data columns (total 44 columns):\n",
      " #   Column                          Non-Null Count  Dtype  \n",
      "---  ------                          --------------  -----  \n",
      " 0   codigo_ocorrencia2              5307 non-null   int64  \n",
      " 1   aeronave_matricula              5307 non-null   object \n",
      " 2   aeronave_operador_categoria     5307 non-null   object \n",
      " 3   aeronave_tipo_veiculo           5307 non-null   object \n",
      " 4   aeronave_fabricante             5307 non-null   object \n",
      " 5   aeronave_modelo                 5307 non-null   object \n",
      " 6   aeronave_tipo_icao              5307 non-null   object \n",
      " 7   aeronave_motor_tipo             5307 non-null   object \n",
      " 8   aeronave_motor_quantidade       5307 non-null   object \n",
      " 9   aeronave_pmd                    5307 non-null   int64  \n",
      " 10  aeronave_pmd_categoria          5307 non-null   int64  \n",
      " 11  aeronave_assentos               5182 non-null   float64\n",
      " 12  aeronave_ano_fabricacao         5189 non-null   float64\n",
      " 13  aeronave_pais_fabricante        5307 non-null   object \n",
      " 14  aeronave_pais_registro          5307 non-null   object \n",
      " 15  aeronave_registro_categoria     5307 non-null   object \n",
      " 16  aeronave_registro_segmento      5307 non-null   object \n",
      " 17  aeronave_voo_origem             5307 non-null   object \n",
      " 18  aeronave_voo_destino            5307 non-null   object \n",
      " 19  aeronave_fase_operacao          5307 non-null   object \n",
      " 20  aeronave_tipo_operacao          5307 non-null   object \n",
      " 21  aeronave_nivel_dano             5307 non-null   object \n",
      " 22  aeronave_fatalidades_total      5307 non-null   int64  \n",
      " 23  codigo_ocorrencia               5307 non-null   int64  \n",
      " 24  codigo_ocorrencia1              5307 non-null   int64  \n",
      " 25  codigo_ocorrencia3              5307 non-null   int64  \n",
      " 26  codigo_ocorrencia4              5307 non-null   int64  \n",
      " 27  ocorrencia_classificacao        5307 non-null   object \n",
      " 28  ocorrencia_latitude             3598 non-null   object \n",
      " 29  ocorrencia_longitude            3597 non-null   object \n",
      " 30  ocorrencia_cidade               5307 non-null   object \n",
      " 31  ocorrencia_uf                   5307 non-null   object \n",
      " 32  ocorrencia_pais                 5307 non-null   object \n",
      " 33  ocorrencia_aerodromo            5307 non-null   object \n",
      " 34  ocorrencia_dia                  5307 non-null   object \n",
      " 35  ocorrencia_hora                 5298 non-null   object \n",
      " 36  investigacao_aeronave_liberada  4572 non-null   object \n",
      " 37  investigacao_status             4942 non-null   object \n",
      " 38  divulgacao_relatorio_numero     4377 non-null   object \n",
      " 39  divulgacao_relatorio_publicado  5307 non-null   object \n",
      " 40  divulgacao_dia_publicacao       1106 non-null   object \n",
      " 41  total_recomendacoes             5307 non-null   int64  \n",
      " 42  total_aeronaves_envolvidas      5307 non-null   int64  \n",
      " 43  ocorrencia_saida_pista          5307 non-null   object \n",
      "dtypes: float64(2), int64(10), object(32)\n",
      "memory usage: 1.8+ MB\n"
     ]
    }
   ],
   "source": [
    "df.info()"
   ]
  },
  {
   "cell_type": "code",
   "execution_count": 11,
   "metadata": {},
   "outputs": [],
   "source": [
    "df = df.drop_duplicates('codigo_ocorrencia2')"
   ]
  },
  {
   "cell_type": "code",
   "execution_count": 12,
   "metadata": {},
   "outputs": [
    {
     "data": {
      "text/plain": [
       "(5245, 44)"
      ]
     },
     "execution_count": 12,
     "metadata": {},
     "output_type": "execute_result"
    }
   ],
   "source": [
    "df.shape"
   ]
  },
  {
   "cell_type": "markdown",
   "metadata": {},
   "source": [
    "##### Pronto! Casos duplicados removidos. Agora vamos ver se temos dados em branco"
   ]
  },
  {
   "cell_type": "code",
   "execution_count": 13,
   "metadata": {},
   "outputs": [
    {
     "data": {
      "text/plain": [
       "codigo_ocorrencia2                   0\n",
       "aeronave_matricula                   0\n",
       "aeronave_operador_categoria          0\n",
       "aeronave_tipo_veiculo                0\n",
       "aeronave_fabricante                  0\n",
       "aeronave_modelo                      0\n",
       "aeronave_tipo_icao                   0\n",
       "aeronave_motor_tipo                  0\n",
       "aeronave_motor_quantidade            0\n",
       "aeronave_pmd                         0\n",
       "aeronave_pmd_categoria               0\n",
       "aeronave_assentos                  124\n",
       "aeronave_ano_fabricacao            117\n",
       "aeronave_pais_fabricante             0\n",
       "aeronave_pais_registro               0\n",
       "aeronave_registro_categoria          0\n",
       "aeronave_registro_segmento           0\n",
       "aeronave_voo_origem                  0\n",
       "aeronave_voo_destino                 0\n",
       "aeronave_fase_operacao               0\n",
       "aeronave_tipo_operacao               0\n",
       "aeronave_nivel_dano                  0\n",
       "aeronave_fatalidades_total           0\n",
       "codigo_ocorrencia                    0\n",
       "codigo_ocorrencia1                   0\n",
       "codigo_ocorrencia3                   0\n",
       "codigo_ocorrencia4                   0\n",
       "ocorrencia_classificacao             0\n",
       "ocorrencia_latitude               1696\n",
       "ocorrencia_longitude              1697\n",
       "ocorrencia_cidade                    0\n",
       "ocorrencia_uf                        0\n",
       "ocorrencia_pais                      0\n",
       "ocorrencia_aerodromo                 0\n",
       "ocorrencia_dia                       0\n",
       "ocorrencia_hora                      9\n",
       "investigacao_aeronave_liberada     725\n",
       "investigacao_status                358\n",
       "divulgacao_relatorio_numero        913\n",
       "divulgacao_relatorio_publicado       0\n",
       "divulgacao_dia_publicacao         4146\n",
       "total_recomendacoes                  0\n",
       "total_aeronaves_envolvidas           0\n",
       "ocorrencia_saida_pista               0\n",
       "dtype: int64"
      ]
     },
     "execution_count": 13,
     "metadata": {},
     "output_type": "execute_result"
    }
   ],
   "source": [
    "df.isna().sum()"
   ]
  },
  {
   "cell_type": "markdown",
   "metadata": {},
   "source": [
    "##### Das perguntas iniciais que pensei em responder, apenas a variavel ano de fabricação que possui dados faltantes. As demais acredito que não fará diferença para as análises. Algumas dessas colunas que vejo que não irei utilizar irei deletar."
   ]
  },
  {
   "cell_type": "code",
   "execution_count": 14,
   "metadata": {},
   "outputs": [],
   "source": [
    "colunas_deletar = ['codigo_ocorrencia2', 'aeronave_matricula', 'aeronave_tipo_icao', 'aeronave_pmd',\n",
    "                  'aeronave_pmd_categoria', 'aeronave_assentos', 'aeronave_pais_registro', 'aeronave_registro_categoria',\n",
    "                  'aeronave_fase_operacao', 'aeronave_tipo_operacao', 'codigo_ocorrencia', 'codigo_ocorrencia1',\n",
    "                  'codigo_ocorrencia3', 'codigo_ocorrencia4', 'ocorrencia_latitude', 'ocorrencia_longitude',\n",
    "                  'ocorrencia_pais', 'ocorrencia_aerodromo', 'divulgacao_relatorio_numero', 'divulgacao_dia_publicacao',\n",
    "                  'total_recomendacoes', 'total_aeronaves_envolvidas']\n",
    "\n",
    "df = df.drop(columns = colunas_deletar)"
   ]
  },
  {
   "cell_type": "code",
   "execution_count": 15,
   "metadata": {},
   "outputs": [
    {
     "data": {
      "text/plain": [
       "(5245, 22)"
      ]
     },
     "execution_count": 15,
     "metadata": {},
     "output_type": "execute_result"
    }
   ],
   "source": [
    "df.shape"
   ]
  },
  {
   "cell_type": "code",
   "execution_count": 16,
   "metadata": {},
   "outputs": [],
   "source": [
    "deletar_nan = df[df['aeronave_ano_fabricacao'].isna() == True]\n",
    "\n",
    "df = df.drop(deletar_nan.index)"
   ]
  },
  {
   "cell_type": "code",
   "execution_count": 17,
   "metadata": {},
   "outputs": [
    {
     "data": {
      "text/plain": [
       "(5128, 22)"
      ]
     },
     "execution_count": 17,
     "metadata": {},
     "output_type": "execute_result"
    }
   ],
   "source": [
    "df.shape"
   ]
  },
  {
   "cell_type": "code",
   "execution_count": 18,
   "metadata": {},
   "outputs": [
    {
     "data": {
      "text/plain": [
       "aeronave_operador_categoria         0\n",
       "aeronave_tipo_veiculo               0\n",
       "aeronave_fabricante                 0\n",
       "aeronave_modelo                     0\n",
       "aeronave_motor_tipo                 0\n",
       "aeronave_motor_quantidade           0\n",
       "aeronave_ano_fabricacao             0\n",
       "aeronave_pais_fabricante            0\n",
       "aeronave_registro_segmento          0\n",
       "aeronave_voo_origem                 0\n",
       "aeronave_voo_destino                0\n",
       "aeronave_nivel_dano                 0\n",
       "aeronave_fatalidades_total          0\n",
       "ocorrencia_classificacao            0\n",
       "ocorrencia_cidade                   0\n",
       "ocorrencia_uf                       0\n",
       "ocorrencia_dia                      0\n",
       "ocorrencia_hora                     6\n",
       "investigacao_aeronave_liberada    724\n",
       "investigacao_status               339\n",
       "divulgacao_relatorio_publicado      0\n",
       "ocorrencia_saida_pista              0\n",
       "dtype: int64"
      ]
     },
     "execution_count": 18,
     "metadata": {},
     "output_type": "execute_result"
    }
   ],
   "source": [
    "df.isna().sum()"
   ]
  },
  {
   "cell_type": "markdown",
   "metadata": {},
   "source": [
    "##### Com o decorrer das análise descrivitas será possível observar alguns valores que estão fora do padrão para aquela variável, em alguns casos conhecidos como outliers. Esses valores podem ocorrer por erro de digitação, por realmente não termos a informação daquela variavel, pode ser que o valor realmente seja aqueles ou outros fatores que podem ter ocasionado esse erro. Estas informações devem ser corrigidas antes de fazermos conclusões ou gerar algum modelo, seja estatístico ou de machine learning. Para essas correções é sempre bom analisar as informações com a pessoa com que está trabalhando, seja o engeheiro de dados ou o dono do negócio para entender o motivo do erro e se é possível corrigir. Mas no decorrer da análise será possível ver essas informações e aponta-las!  "
   ]
  },
  {
   "cell_type": "markdown",
   "metadata": {},
   "source": [
    "##### Depois de todo esse processo agora temos as informações inicais onde poderemos responder as perguntar levantadas incialmente e talvez sugerir outras análises."
   ]
  },
  {
   "cell_type": "markdown",
   "metadata": {},
   "source": [
    "- Quais são os tipos de aeronaves que temos e a quantidade de cada uma delas?"
   ]
  },
  {
   "cell_type": "code",
   "execution_count": 19,
   "metadata": {},
   "outputs": [
    {
     "data": {
      "text/plain": [
       "Text(0.5, 1.0, 'Tipos de Aeronaves no Brasil')"
      ]
     },
     "execution_count": 19,
     "metadata": {},
     "output_type": "execute_result"
    },
    {
     "data": {
      "image/png": "[encoded data removed]",
      "text/plain": [
       "<Figure size 864x432 with 1 Axes>"
      ]
     },
     "metadata": {
      "needs_background": "light"
     },
     "output_type": "display_data"
    }
   ],
   "source": [
    "plt.figure(figsize=(12,6))\n",
    "sns.countplot(x = 'aeronave_tipo_veiculo', data = df)\n",
    "plt.xticks(rotation=45, horizontalalignment='right')\n",
    "plt.xlabel('Tipo de aeronave')\n",
    "plt.ylabel('Contagem')\n",
    "plt.title('Tipos de Aeronaves no Brasil')"
   ]
  },
  {
   "cell_type": "markdown",
   "metadata": {},
   "source": [
    "##### Podemos observar que o maior tipo de aeronave que temos é o **avião**, cerca de 4 mil aeronaves, seguido do **helicóptero** e **ultraleve**.\n",
    "##### Podemos verificar também que a quandidade de aviões é bem supeior aos demais tipos de aeronaves o que pode indicar que a maior parte das ocorrências podem ser com os aviões\n",
    "##### Como mencionado anteriormente temos aeronaves identificadas como '***' que possívelmente deveríamos identificar o que ela representa. Será um erro de digitação?"
   ]
  },
  {
   "cell_type": "markdown",
   "metadata": {},
   "source": [
    "- As nossas aeronaves são mais antigas ou mais novas (ano de fabricação)?"
   ]
  },
  {
   "cell_type": "code",
   "execution_count": 20,
   "metadata": {},
   "outputs": [
    {
     "data": {
      "text/plain": [
       "Text(0.5, 1.0, 'Ano de fabricação das Aeronaves')"
      ]
     },
     "execution_count": 20,
     "metadata": {},
     "output_type": "execute_result"
    },
    {
     "data": {
      "image/png": "[encoded data removed]",
      "text/plain": [
       "<Figure size 1080x432 with 1 Axes>"
      ]
     },
     "metadata": {
      "needs_background": "light"
     },
     "output_type": "display_data"
    }
   ],
   "source": [
    "plt.figure(figsize=(15,6))\n",
    "sns.countplot(x = 'aeronave_ano_fabricacao', data = df)\n",
    "plt.xticks(rotation = 90)\n",
    "plt.xlabel('Ano de fabricação')\n",
    "plt.ylabel('Contagem')\n",
    "plt.title('Ano de fabricação das Aeronaves')"
   ]
  },
  {
   "cell_type": "markdown",
   "metadata": {},
   "source": [
    "#####  Com o gráfico acima podemos notar picos e vales do ano de fabricação das aeronaves que são utilizadas no Brasil. A maioria delas são dos anos 70 e inicio dos anos 80, entre 1990 a 1993 e entre 2007 a 2014. Considerando Que essa análise está sendo feita em 2020 e supondo que uma aeronave é considera nova em até 10 anos de uso, a maior parte das nossas aeronaves são mais antigas. Como falei no ínicio, não entendo muito do assunto, mas vale fazer algumas reflexos sobre as análises que estamos fazendo.\n",
    "##### É possível perceber que temos aeronaves antes dos anos 70 que vale a pergunta: \"será que essas aeronaves ainda estão funcionando? Ou seja, executando viajens? Ou apenas estão em exposição\". Caso estejam apenas em exposição, elas não deveriam não entrar para nosso estudo. Como não tenho como confirmar isso irei mante-las.\n",
    "\n",
    "###### Com o gráfico foi possível perceber valores incomuns, como anod e fabricação '0.0 ou 9999.0'."
   ]
  },
  {
   "cell_type": "markdown",
   "metadata": {},
   "source": [
    "- Qual o trajeto mais realizado (origem - destino)?"
   ]
  },
  {
   "cell_type": "markdown",
   "metadata": {},
   "source": [
    "##### Para respondermos essa pergunta, teremos que criar uma nova variável onde irá indicar origem e destino e depois conta-las"
   ]
  },
  {
   "cell_type": "code",
   "execution_count": 21,
   "metadata": {},
   "outputs": [],
   "source": [
    "df['origem-destino'] = df['aeronave_voo_origem'] + \" - \" + df['aeronave_voo_destino']"
   ]
  },
  {
   "cell_type": "code",
   "execution_count": 22,
   "metadata": {},
   "outputs": [
    {
     "data": {
      "text/plain": [
       "FORA DE AERODROMO - FORA DE AERODROMO                                            2560\n",
       "*** - ***                                                                         157\n",
       "CAMPO DE MARTE - CAMPO DE MARTE                                                    45\n",
       "AEROPORTO ESTADUAL DE JUNDIAÍ - AEROPORTO ESTADUAL DE JUNDIAÍ                      27\n",
       "GOVERNADOR JOSÉ RICHA - GOVERNADOR JOSÉ RICHA                                      22\n",
       "ESTADUAL ARTHUR SIQUEIRA - ESTADUAL ARTHUR SIQUEIRA                                20\n",
       "CARLOS PRATES - CARLOS PRATES                                                      18\n",
       "AERÓDROMO NACIONAL DE AVIAÇÃO - AERÓDROMO NACIONAL DE AVIAÇÃO                      17\n",
       "BACACHERI - BACACHERI                                                              16\n",
       "PISTA DE POUSO EVENTUAL - PISTA DE POUSO EVENTUAL                                  15\n",
       "PROFESSOR URBANO ERNESTO STUMPF - PROFESSOR URBANO ERNESTO STUMPF                  11\n",
       "JACAREPAGUÁ - JACAREPAGUÁ                                                          11\n",
       "HERCÍLIO LUZ - HERCÍLIO LUZ                                                         9\n",
       "SÍLVIO NAME JÚNIOR - SÍLVIO NAME JÚNIOR                                             8\n",
       "CARLOS DRUMMOND DE ANDRADE / PAMPULHA - CARLOS DRUMMOND DE ANDRADE / PAMPULHA       8\n",
       "CONGONHAS - SANTOS DUMONT                                                           8\n",
       "JACAREPAGUÁ - FORA DE AERODROMO                                                     8\n",
       "SANTOS DUMONT - CONGONHAS                                                           8\n",
       "SANTA GENOVEVA/GOIÂNIA - SANTA GENOVEVA/GOIÂNIA                                     8\n",
       "CAMPO DE MARTE - FORA DE AERODROMO                                                  8\n",
       "Name: origem-destino, dtype: int64"
      ]
     },
     "execution_count": 22,
     "metadata": {},
     "output_type": "execute_result"
    }
   ],
   "source": [
    "df['origem-destino'].value_counts().head(20)"
   ]
  },
  {
   "cell_type": "markdown",
   "metadata": {},
   "source": [
    "##### Mesmo com a criação desse nova variável não conseguiremos responder a pergunta de qual trajeto é mais realizado. Neste caso, deveríamos enter melhor a base e ver se isso faz sentido. Mas como não tenho como consultar vou para a próxima pergunta."
   ]
  },
  {
   "cell_type": "markdown",
   "metadata": {},
   "source": [
    "- Temos alguma relação do tipo de aeronave e os defeitos? São recorrentes?"
   ]
  },
  {
   "cell_type": "code",
   "execution_count": 27,
   "metadata": {},
   "outputs": [
    {
     "data": {
      "text/html": [
       "<div>\n",
       "<style scoped>\n",
       "    .dataframe tbody tr th:only-of-type {\n",
       "        vertical-align: middle;\n",
       "    }\n",
       "\n",
       "    .dataframe tbody tr th {\n",
       "        vertical-align: top;\n",
       "    }\n",
       "\n",
       "    .dataframe thead th {\n",
       "        text-align: right;\n",
       "    }\n",
       "</style>\n",
       "<table border=\"1\" class=\"dataframe\">\n",
       "  <thead>\n",
       "    <tr style=\"text-align: right;\">\n",
       "      <th>aeronave_tipo_veiculo</th>\n",
       "      <th>***</th>\n",
       "      <th>ANFÍBIO</th>\n",
       "      <th>AVIÃO</th>\n",
       "      <th>BALÃO</th>\n",
       "      <th>DIRIGÍVEL</th>\n",
       "      <th>HELICÓPTERO</th>\n",
       "      <th>HIDROAVIÃO</th>\n",
       "      <th>PLANADOR</th>\n",
       "      <th>TRIKE</th>\n",
       "      <th>ULTRALEVE</th>\n",
       "    </tr>\n",
       "    <tr>\n",
       "      <th>ocorrencia_classificacao</th>\n",
       "      <th></th>\n",
       "      <th></th>\n",
       "      <th></th>\n",
       "      <th></th>\n",
       "      <th></th>\n",
       "      <th></th>\n",
       "      <th></th>\n",
       "      <th></th>\n",
       "      <th></th>\n",
       "      <th></th>\n",
       "    </tr>\n",
       "  </thead>\n",
       "  <tbody>\n",
       "    <tr>\n",
       "      <th>ACIDENTE</th>\n",
       "      <td>21</td>\n",
       "      <td>7</td>\n",
       "      <td>1198</td>\n",
       "      <td>1</td>\n",
       "      <td>1</td>\n",
       "      <td>205</td>\n",
       "      <td>0</td>\n",
       "      <td>9</td>\n",
       "      <td>4</td>\n",
       "      <td>212</td>\n",
       "    </tr>\n",
       "    <tr>\n",
       "      <th>INCIDENTE</th>\n",
       "      <td>25</td>\n",
       "      <td>4</td>\n",
       "      <td>2400</td>\n",
       "      <td>0</td>\n",
       "      <td>0</td>\n",
       "      <td>337</td>\n",
       "      <td>1</td>\n",
       "      <td>2</td>\n",
       "      <td>0</td>\n",
       "      <td>50</td>\n",
       "    </tr>\n",
       "    <tr>\n",
       "      <th>INCIDENTE GRAVE</th>\n",
       "      <td>7</td>\n",
       "      <td>1</td>\n",
       "      <td>553</td>\n",
       "      <td>0</td>\n",
       "      <td>0</td>\n",
       "      <td>53</td>\n",
       "      <td>0</td>\n",
       "      <td>1</td>\n",
       "      <td>0</td>\n",
       "      <td>36</td>\n",
       "    </tr>\n",
       "  </tbody>\n",
       "</table>\n",
       "</div>"
      ],
      "text/plain": [
       "aeronave_tipo_veiculo     ***  ANFÍBIO  AVIÃO  BALÃO  DIRIGÍVEL  HELICÓPTERO  \\\n",
       "ocorrencia_classificacao                                                       \n",
       "ACIDENTE                   21        7   1198      1          1          205   \n",
       "INCIDENTE                  25        4   2400      0          0          337   \n",
       "INCIDENTE GRAVE             7        1    553      0          0           53   \n",
       "\n",
       "aeronave_tipo_veiculo     HIDROAVIÃO  PLANADOR  TRIKE  ULTRALEVE  \n",
       "ocorrencia_classificacao                                          \n",
       "ACIDENTE                           0         9      4        212  \n",
       "INCIDENTE                          1         2      0         50  \n",
       "INCIDENTE GRAVE                    0         1      0         36  "
      ]
     },
     "execution_count": 27,
     "metadata": {},
     "output_type": "execute_result"
    }
   ],
   "source": [
    "pd.crosstab(df['ocorrencia_classificacao'], df['aeronave_tipo_veiculo'])"
   ]
  },
  {
   "cell_type": "markdown",
   "metadata": {},
   "source": [
    "##### Como podemos ver, e já era esperado, a aeronave avião possui a maior quantidade de ocorrências."
   ]
  }
 ],
 "metadata": {
  "kernelspec": {
   "display_name": "Python 3",
   "language": "python",
   "name": "python3"
  },
  "language_info": {
   "codemirror_mode": {
    "name": "ipython",
    "version": 3
   },
   "file_extension": ".py",
   "mimetype": "text/x-python",
   "name": "python",
   "nbconvert_exporter": "python",
   "pygments_lexer": "ipython3",
   "version": "3.7.6"
  }
 },
 "nbformat": 4,
 "nbformat_minor": 4
}
